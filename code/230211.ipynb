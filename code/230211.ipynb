{
 "cells": [
  {
   "cell_type": "code",
   "execution_count": 1,
   "metadata": {},
   "outputs": [
    {
     "name": "stdout",
     "output_type": "stream",
     "text": [
      "Collecting git+https://github.com/kakaobrain/pororo.git\n",
      "  Cloning https://github.com/kakaobrain/pororo.git to c:\\users\\user\\appdata\\local\\temp\\pip-req-build-r7teb38h\n",
      "  Resolved https://github.com/kakaobrain/pororo.git to commit 7d05a75e8062b00e6b65364b8ec6c52b6293ab07\n"
     ]
    },
    {
     "name": "stderr",
     "output_type": "stream",
     "text": [
      "  Running command git clone -q https://github.com/kakaobrain/pororo.git 'C:\\Users\\user\\AppData\\Local\\Temp\\pip-req-build-r7teb38h'\n",
      "ERROR: Could not find a version that satisfies the requirement torch==1.6.0 (from pororo) (from versions: 1.7.1, 1.8.0, 1.8.1, 1.9.0, 1.9.1, 1.10.0, 1.10.1, 1.10.2, 1.11.0, 1.12.0, 1.12.1, 1.13.0, 1.13.1)\n",
      "ERROR: No matching distribution found for torch==1.6.0\n"
     ]
    }
   ],
   "source": [
    "!pip install git+https://github.com/kakaobrain/pororo.git"
   ]
  },
  {
   "cell_type": "code",
   "execution_count": 2,
   "metadata": {},
   "outputs": [
    {
     "name": "stdout",
     "output_type": "stream",
     "text": [
      "Collecting python-mecab-ko\n",
      "  Downloading python_mecab_ko-1.3.3-cp39-cp39-win_amd64.whl (810 kB)\n",
      "Collecting python-mecab-ko-dic\n",
      "  Downloading python_mecab_ko_dic-2.1.1.post2-py3-none-any.whl (34.5 MB)\n",
      "Installing collected packages: python-mecab-ko-dic, python-mecab-ko\n",
      "Successfully installed python-mecab-ko-1.3.3 python-mecab-ko-dic-2.1.1.post2\n"
     ]
    }
   ],
   "source": [
    "!pip install python-mecab-ko"
   ]
  },
  {
   "cell_type": "code",
   "execution_count": 3,
   "metadata": {},
   "outputs": [
    {
     "ename": "ModuleNotFoundError",
     "evalue": "No module named 'pororo'",
     "output_type": "error",
     "traceback": [
      "\u001b[1;31m---------------------------------------------------------------------------\u001b[0m",
      "\u001b[1;31mModuleNotFoundError\u001b[0m                       Traceback (most recent call last)",
      "\u001b[1;32mc:\\Users\\user\\Desktop\\Python\\Project\\Project3\\lyrics_recommend\\230211.ipynb 셀 3\u001b[0m in \u001b[0;36m<cell line: 1>\u001b[1;34m()\u001b[0m\n\u001b[1;32m----> <a href='vscode-notebook-cell:/c%3A/Users/user/Desktop/Python/Project/Project3/lyrics_recommend/230211.ipynb#W2sZmlsZQ%3D%3D?line=0'>1</a>\u001b[0m \u001b[39mfrom\u001b[39;00m \u001b[39mpororo\u001b[39;00m \u001b[39mimport\u001b[39;00m Pororo\n",
      "\u001b[1;31mModuleNotFoundError\u001b[0m: No module named 'pororo'"
     ]
    }
   ],
   "source": [
    "from pororo import Pororo"
   ]
  },
  {
   "cell_type": "code",
   "execution_count": null,
   "metadata": {},
   "outputs": [],
   "source": []
  }
 ],
 "metadata": {
  "kernelspec": {
   "display_name": "base",
   "language": "python",
   "name": "python3"
  },
  "language_info": {
   "codemirror_mode": {
    "name": "ipython",
    "version": 3
   },
   "file_extension": ".py",
   "mimetype": "text/x-python",
   "name": "python",
   "nbconvert_exporter": "python",
   "pygments_lexer": "ipython3",
   "version": "3.9.12"
  },
  "orig_nbformat": 4,
  "vscode": {
   "interpreter": {
    "hash": "a077222d77dfe082b8f1dd562ad70e458ac2ab76993a0b248ab0476e32e9e8dd"
   }
  }
 },
 "nbformat": 4,
 "nbformat_minor": 2
}
