{
 "cells": [
  {
   "cell_type": "code",
   "execution_count": null,
   "id": "da215929-d868-4dea-b0db-171576e8ef6a",
   "metadata": {
    "collapsed": true,
    "jupyter": {
     "outputs_hidden": true
    },
    "tags": []
   },
   "outputs": [
    {
     "name": "stdout",
     "output_type": "stream",
     "text": [
      "Requirement already satisfied: selenium in c:\\users\\user\\anaconda3\\lib\\site-packages (4.5.0)\n",
      "Requirement already satisfied: trio-websocket~=0.9 in c:\\users\\user\\anaconda3\\lib\\site-packages (from selenium) (0.9.2)\n",
      "Collecting urllib3[socks]~=1.26\n",
      "  Using cached urllib3-1.26.14-py2.py3-none-any.whl (140 kB)\n",
      "Requirement already satisfied: trio~=0.17 in c:\\users\\user\\anaconda3\\lib\\site-packages (from selenium) (0.22.0)\n",
      "Requirement already satisfied: certifi>=2021.10.8 in c:\\users\\user\\anaconda3\\lib\\site-packages (from selenium) (2022.12.7)\n",
      "Requirement already satisfied: attrs>=19.2.0 in c:\\users\\user\\anaconda3\\lib\\site-packages (from trio~=0.17->selenium) (22.1.0)\n",
      "Requirement already satisfied: sortedcontainers in c:\\users\\user\\anaconda3\\lib\\site-packages (from trio~=0.17->selenium) (2.4.0)\n",
      "Requirement already satisfied: async-generator>=1.9 in c:\\users\\user\\anaconda3\\lib\\site-packages (from trio~=0.17->selenium) (1.10)\n",
      "Requirement already satisfied: outcome in c:\\users\\user\\anaconda3\\lib\\site-packages (from trio~=0.17->selenium) (1.2.0)\n",
      "Requirement already satisfied: sniffio in c:\\users\\user\\anaconda3\\lib\\site-packages (from trio~=0.17->selenium) (1.2.0)\n",
      "Requirement already satisfied: cffi>=1.14 in c:\\users\\user\\anaconda3\\lib\\site-packages (from trio~=0.17->selenium) (1.15.1)\n",
      "Requirement already satisfied: exceptiongroup>=1.0.0rc9 in c:\\users\\user\\anaconda3\\lib\\site-packages (from trio~=0.17->selenium) (1.0.0rc9)\n",
      "Requirement already satisfied: idna in c:\\users\\user\\anaconda3\\lib\\site-packages (from trio~=0.17->selenium) (2.6)\n",
      "Requirement already satisfied: wsproto>=0.14 in c:\\users\\user\\anaconda3\\lib\\site-packages (from trio-websocket~=0.9->selenium) (1.2.0)\n",
      "Requirement already satisfied: PySocks!=1.5.7,<2.0,>=1.5.6 in c:\\users\\user\\anaconda3\\lib\\site-packages (from urllib3[socks]~=1.26->selenium) (1.7.1)\n",
      "Requirement already satisfied: pycparser in c:\\users\\user\\anaconda3\\lib\\site-packages (from cffi>=1.14->trio~=0.17->selenium) (2.21)\n",
      "Requirement already satisfied: h11<1,>=0.9.0 in c:\\users\\user\\anaconda3\\lib\\site-packages (from wsproto>=0.14->trio-websocket~=0.9->selenium) (0.14.0)\n",
      "Installing collected packages: urllib3\n",
      "  Attempting uninstall: urllib3\n",
      "    Found existing installation: urllib3 1.22\n",
      "    Uninstalling urllib3-1.22:\n",
      "      Successfully uninstalled urllib3-1.22\n",
      "Successfully installed urllib3-1.26.14\n"
     ]
    },
    {
     "name": "stderr",
     "output_type": "stream",
     "text": [
      "ERROR: pip's dependency resolver does not currently take into account all the packages that are installed. This behaviour is the source of the following dependency conflicts.\n",
      "requests 2.18.4 requires urllib3<1.23,>=1.21.1, but you have urllib3 1.26.14 which is incompatible.\n",
      "pandas-profiling 3.6.1 requires requests<2.29,>=2.24.0, but you have requests 2.18.4 which is incompatible.\n",
      "cookiecutter 1.7.3 requires requests>=2.23.0, but you have requests 2.18.4 which is incompatible.\n",
      "conda 22.11.1 requires requests>=2.20.1, but you have requests 2.18.4 which is incompatible.\n",
      "conda-repo-cli 1.0.24 requires clyent==1.2.1, but you have clyent 1.2.2 which is incompatible.\n",
      "conda-repo-cli 1.0.24 requires nbformat==5.4.0, but you have nbformat 5.7.0 which is incompatible.\n",
      "conda-repo-cli 1.0.24 requires requests==2.28.1, but you have requests 2.18.4 which is incompatible.\n",
      "anaconda-client 1.11.0 requires requests>=2.20.0, but you have requests 2.18.4 which is incompatible.\n"
     ]
    },
    {
     "name": "stdout",
     "output_type": "stream",
     "text": [
      "Requirement already satisfied: beautifulsoup4 in c:\\users\\user\\anaconda3\\lib\\site-packages (4.11.1)\n",
      "Requirement already satisfied: soupsieve>1.2 in c:\\users\\user\\anaconda3\\lib\\site-packages (from beautifulsoup4) (2.3.2.post1)\n",
      "Requirement already satisfied: chromedriver-autoinstaller in c:\\users\\user\\anaconda3\\lib\\site-packages (0.4.0)\n"
     ]
    }
   ],
   "source": [
    "!pip install selenium\n",
    "!pip install beautifulsoup4\n",
    "!pip install chromedriver-autoinstaller"
   ]
  },
  {
   "cell_type": "markdown",
   "id": "829a64a7-f526-486c-8a39-8805c2383fd2",
   "metadata": {},
   "source": [
    "# 1. 수집에 필요한 라이브러리 불러오기"
   ]
  },
  {
   "cell_type": "code",
   "execution_count": 11,
   "id": "11fa07f9-5f6c-498c-9fe8-ec6a4322c7b6",
   "metadata": {},
   "outputs": [],
   "source": [
    "import os, time\n",
    "from selenium import webdriver\n",
    "from selenium.webdriver.common.keys import Keys\n",
    "import urllib.request\n",
    "import requests\n",
    "from bs4 import BeautifulSoup\n",
    "import urllib.request\n",
    "import pandas as pd\n",
    "from tqdm import tqdm\n",
    "import chromedriver_autoinstaller\n",
    "from selenium import webdriver\n",
    "from tqdm import tqdm\n",
    "import numpy as np\n",
    "import pandas as pd\n",
    "import numpy as np\n",
    "import time\n",
    "from selenium import webdriver\n",
    "from selenium.webdriver.common.by import By\n",
    "import re\n",
    "from bs4 import BeautifulSoup"
   ]
  },
  {
   "cell_type": "code",
   "execution_count": 12,
   "id": "913dc044-3a66-4117-a19f-e32241ca7f52",
   "metadata": {},
   "outputs": [],
   "source": [
    "import os, time\n",
    "from selenium import webdriver\n",
    "import urllib.request\n",
    "from selenium.webdriver.common.by import By"
   ]
  },
  {
   "cell_type": "markdown",
   "id": "9906718c-0df6-4350-8d56-0e8d7e59e507",
   "metadata": {},
   "source": [
    "## list -> 문자열로 변경함수"
   ]
  },
  {
   "cell_type": "code",
   "execution_count": 177,
   "id": "50a2d453-abfb-4c22-8151-09abca8badcb",
   "metadata": {
    "tags": []
   },
   "outputs": [],
   "source": [
    "# list -> 문자열로 변경함수\n",
    "def listToString(str_list):\n",
    "    result = \"\"\n",
    "    for s in str_list:\n",
    "        result += s + \" \"\n",
    "    return result.strip()"
   ]
  },
  {
   "cell_type": "markdown",
   "id": "6003d9e3-01fd-427e-8c4a-ce6768e90ae2",
   "metadata": {},
   "source": [
    "# 2.webdriver 이용하여 melon 사이트와 연결"
   ]
  },
  {
   "cell_type": "code",
   "execution_count": null,
   "id": "28a5816d-3fdf-4f5b-b41a-02b719671289",
   "metadata": {},
   "outputs": [],
   "source": [
    "driver = webdriver.Chrome()"
   ]
  },
  {
   "cell_type": "code",
   "execution_count": 14,
   "id": "4adbfd2e-d9d2-44ec-a25c-8a41c5b486ed",
   "metadata": {},
   "outputs": [],
   "source": [
    "driver.get(f'https://www.melon.com/chart/age/index.htm?chartType=YE&chartGenre=KPOP&chartDate=1990')\n"
   ]
  },
  {
   "cell_type": "code",
   "execution_count": 20,
   "id": "ebfbef03-9b34-48a5-908e-8b01e3c64dad",
   "metadata": {
    "tags": []
   },
   "outputs": [
    {
     "name": "stderr",
     "output_type": "stream",
     "text": [
      "100%|██████████████████████████████████████████████████████████████████████████████████| 64/64 [00:46<00:00,  1.38it/s]\n"
     ]
    }
   ],
   "source": [
    "music_list = []\n",
    "for i in tqdm(range(1960,2024)):\n",
    "    driver.get(f'https://www.melon.com/chart/age/index.htm?chartType=YE&chartGenre=KPOP&chartDate={i}')\n",
    "    for j in driver.find_elements(By.CSS_SELECTOR , '#lst50 > td:nth-child(4) > div > button.btn_icon.play'):\n",
    "        music_list.append(j.get_attribute('onclick').split(',')[1].split(')')[0])"
   ]
  },
  {
   "cell_type": "code",
   "execution_count": 21,
   "id": "03b0733e-c5c4-4583-90a6-49a5a958eac8",
   "metadata": {
    "tags": []
   },
   "outputs": [
    {
     "name": "stderr",
     "output_type": "stream",
     "text": [
      "100%|██████████████████████████████████████████████████████████████████████████████████| 64/64 [00:37<00:00,  1.72it/s]\n"
     ]
    }
   ],
   "source": [
    "music_list2 = []\n",
    "for i in tqdm(range(1960,2024)):\n",
    "    driver.get(f'https://www.melon.com/chart/age/index.htm?chartType=YE&chartGenre=KPOP&chartDate={i}#params%5Bidx%5D=51')\n",
    "    for j in driver.find_elements(By.CSS_SELECTOR , '#lst100 > td:nth-child(4) > div > button.btn_icon.add'):\n",
    "        music_list2.append(j.get_attribute('onclick').split('(')[1].split(')')[0])"
   ]
  },
  {
   "cell_type": "code",
   "execution_count": 22,
   "id": "e27dd44f-ae4b-41ac-ad41-47dcab780b86",
   "metadata": {},
   "outputs": [],
   "source": [
    "Top100_list = music_list + music_list2"
   ]
  },
  {
   "cell_type": "code",
   "execution_count": 23,
   "id": "c3d19b5d-9ecc-44ff-835d-a2ce5479d8ec",
   "metadata": {},
   "outputs": [],
   "source": [
    "Top100_list = list(set(Top100_list))"
   ]
  },
  {
   "cell_type": "code",
   "execution_count": 296,
   "id": "82809e84-c9a1-4b9a-a28e-13ef01a20faa",
   "metadata": {},
   "outputs": [
    {
     "name": "stdout",
     "output_type": "stream",
     "text": [
      "The Day\n",
      "<class 'str'>\n"
     ]
    }
   ],
   "source": [
    "driver.get(\"https://www.melon.com/song/detail.htm?songId=1415517\")\n",
    "\n",
    "for i in driver.find_elements(By.CSS_SELECTOR , '#downloadfrm > div > div > div.entry > div.info > div.song_name'):\n",
    "    print(i.text)\n",
    "    print(type(i.text))"
   ]
  },
  {
   "cell_type": "markdown",
   "id": "bc69e328-7cef-41a0-8e50-22fac86a84aa",
   "metadata": {},
   "source": [
    "# 2. 이미지, 제목, 가수, 발매일, 장르, 가사 크롤링해오기"
   ]
  },
  {
   "cell_type": "code",
   "execution_count": 26,
   "id": "cec340ea-43ca-48b7-bd6f-61bb9fb95de8",
   "metadata": {
    "tags": []
   },
   "outputs": [
    {
     "name": "stderr",
     "output_type": "stream",
     "text": [
      "100%|████████████████████████████████████████████████████████████████████████████| 4412/4412 [3:25:09<00:00,  2.79s/it]\n"
     ]
    }
   ],
   "source": [
    "img = []\n",
    "title = []\n",
    "singer = []\n",
    "release_date = []\n",
    "genre = []\n",
    "lyrics = []\n",
    "for i in tqdm(Top100_list):\n",
    "    time.sleep(2)\n",
    "    driver.get(f\"https://www.melon.com/song/detail.htm?songId={i}\")\n",
    "    # 이미지 \n",
    "    \n",
    "    for i in driver.find_elements(By.CSS_SELECTOR , '#downloadfrm > div > div > div.thumb > a > img'):\n",
    "        if i.text == None:\n",
    "            img.append('null')\n",
    "        else:\n",
    "            img.append(i.get_attribute('src'))\n",
    "        \n",
    "    # 제목\n",
    "    \n",
    "    for i in driver.find_elements(By.CSS_SELECTOR , '#downloadfrm > div > div > div.entry > div.info > div.song_name'):\n",
    "        if i.text == None:\n",
    "            title.append('null')\n",
    "        else:\n",
    "            title.append(i.text)\n",
    "    #가수\n",
    "    \n",
    "    for i in driver.find_elements(By.CSS_SELECTOR , '#downloadfrm > div > div > div.entry > div.info > div.artist'):\n",
    "        if i.text == None:\n",
    "            singer.append('null')\n",
    "        else:\n",
    "            singer.append(i.text)\n",
    "            \n",
    "    #발매일\n",
    "    for i in driver.find_elements(By.CSS_SELECTOR , '#downloadfrm > div > div > div.entry > div.meta > dl > dd:nth-child(4)'):\n",
    "        if i.text == None:\n",
    "            release_date.append('null')\n",
    "        else:\n",
    "            release_date.append(i.text)\n",
    "            \n",
    "    #장르\n",
    "    for i in driver.find_elements(By.CSS_SELECTOR , '#downloadfrm > div > div > div.entry > div.meta > dl > dd:nth-child(6)'):\n",
    "        if i.text == None:\n",
    "            genre.append('null')\n",
    "        else:\n",
    "            genre.append(i.text)\n",
    "    #가사\n",
    "    \n",
    "    for i in driver.find_elements(By.CSS_SELECTOR , '#lyricArea > div'):\n",
    "        if i.text == None:\n",
    "            lyrics.append('null')\n",
    "        else:\n",
    "            lyrics.append(i.text)\n",
    "    \n",
    "music = pd.DataFrame(zip(title, singer, release_date, genre,lyrics, img))"
   ]
  },
  {
   "cell_type": "code",
   "execution_count": 27,
   "id": "6f59ec4e-4e6c-4136-8c40-fbb7a79cf8bd",
   "metadata": {},
   "outputs": [],
   "source": [
    "music.columns = ['제목', '가수', '발매일','장르','가사', '이미지']"
   ]
  },
  {
   "cell_type": "code",
   "execution_count": 29,
   "id": "052d0c64-4a88-4bac-8f6c-f15029edac6e",
   "metadata": {},
   "outputs": [
    {
     "data": {
      "text/html": [
       "<div>\n",
       "<style scoped>\n",
       "    .dataframe tbody tr th:only-of-type {\n",
       "        vertical-align: middle;\n",
       "    }\n",
       "\n",
       "    .dataframe tbody tr th {\n",
       "        vertical-align: top;\n",
       "    }\n",
       "\n",
       "    .dataframe thead th {\n",
       "        text-align: right;\n",
       "    }\n",
       "</style>\n",
       "<table border=\"1\" class=\"dataframe\">\n",
       "  <thead>\n",
       "    <tr style=\"text-align: right;\">\n",
       "      <th></th>\n",
       "      <th>제목</th>\n",
       "      <th>가수</th>\n",
       "      <th>발매일</th>\n",
       "      <th>장르</th>\n",
       "      <th>가사</th>\n",
       "      <th>이미지</th>\n",
       "    </tr>\n",
       "  </thead>\n",
       "  <tbody>\n",
       "    <tr>\n",
       "      <th>0</th>\n",
       "      <td>날 사랑했다면</td>\n",
       "      <td>박학기</td>\n",
       "      <td>1993.10.01</td>\n",
       "      <td>발라드</td>\n",
       "      <td>떠나버린 널 깨닫기엔\\n하늘이 너무 맑아\\n우리에게 필요한 건 시간일뿐\\n\\n영화속...</td>\n",
       "      <td>https://cdnimg.melon.co.kr/cm/album/images/005...</td>\n",
       "    </tr>\n",
       "    <tr>\n",
       "      <th>1</th>\n",
       "      <td>그대 떠난 이밤에</td>\n",
       "      <td>옥슨 80</td>\n",
       "      <td>1981.09.25</td>\n",
       "      <td>록/메탈</td>\n",
       "      <td>바람부네 아픈 내맘에\\n아름다운 추억 못잊어 부네\\n그대 떠난 이밤\\n그대 떠난 이...</td>\n",
       "      <td>https://cdnimg.melon.co.kr/cm/album/images/000...</td>\n",
       "    </tr>\n",
       "    <tr>\n",
       "      <th>2</th>\n",
       "      <td>나는 홀로 있어도</td>\n",
       "      <td>유심초</td>\n",
       "      <td>1980.11.01</td>\n",
       "      <td>성인가요/트로트</td>\n",
       "      <td>하얀 불빛 아래에\\n침묵만이 흐르고\\n낯설은 네 눈길에\\n눈물만이 흐르네\\n멀어져 ...</td>\n",
       "      <td>https://cdnimg.melon.co.kr/cm/album/images/003...</td>\n",
       "    </tr>\n",
       "    <tr>\n",
       "      <th>3</th>\n",
       "      <td>Love Is (Dance Mega Mix Ver.)</td>\n",
       "      <td>터보</td>\n",
       "      <td>2001.06.20</td>\n",
       "      <td>댄스</td>\n",
       "      <td>우린 6년전에 만났지\\n\\n널 사랑하게 됐어\\n\\n내 마음을 숨긴체\\n\\n널 따라 ...</td>\n",
       "      <td>https://cdnimg.melon.co.kr/cm/album/images/003...</td>\n",
       "    </tr>\n",
       "    <tr>\n",
       "      <th>4</th>\n",
       "      <td>사랑밖엔 난 몰라 (Original Ver.)</td>\n",
       "      <td>심수봉</td>\n",
       "      <td>2009.08.13</td>\n",
       "      <td>성인가요/트로트</td>\n",
       "      <td>그대 내 곁에선 순간\\n\\n그 눈빛이 너무 좋아\\n\\n어제는 울었지만\\n\\n오늘은 ...</td>\n",
       "      <td>https://cdnimg.melon.co.kr/cm/album/images/006...</td>\n",
       "    </tr>\n",
       "    <tr>\n",
       "      <th>...</th>\n",
       "      <td>...</td>\n",
       "      <td>...</td>\n",
       "      <td>...</td>\n",
       "      <td>...</td>\n",
       "      <td>...</td>\n",
       "      <td>...</td>\n",
       "    </tr>\n",
       "    <tr>\n",
       "      <th>4406</th>\n",
       "      <td>작은 기다림</td>\n",
       "      <td>쿨 (COOL)</td>\n",
       "      <td>1995.10.01</td>\n",
       "      <td>댄스</td>\n",
       "      <td>널 이렇게 보내 줄 수\\n밖에 없었어\\n나 후회할 지도 모른 채\\n끝없이 다가오는 ...</td>\n",
       "      <td>https://cdnimg.melon.co.kr/cm/album/images/000...</td>\n",
       "    </tr>\n",
       "    <tr>\n",
       "      <th>4407</th>\n",
       "      <td>WE LIKE 2 PARTY</td>\n",
       "      <td>BIGBANG (빅뱅)</td>\n",
       "      <td>2015.06.01</td>\n",
       "      <td>랩/힙합</td>\n",
       "      <td>오늘도 친구들이 왔어\\nMAN HOW YOU BEEN WHATS UP\\nAYE 여기...</td>\n",
       "      <td>https://cdnimg.melon.co.kr/cm/album/images/023...</td>\n",
       "    </tr>\n",
       "    <tr>\n",
       "      <th>4408</th>\n",
       "      <td>내 손을 잡아</td>\n",
       "      <td>아이유</td>\n",
       "      <td>2011.05.25</td>\n",
       "      <td>발라드, 국내드라마</td>\n",
       "      <td>느낌이 오잖아\\n\\n떨리고 있잖아\\n\\n언제까지 눈치만 볼 거니\\n\\n네 맘을 말해...</td>\n",
       "      <td>https://cdnimg.melon.co.kr/cm/album/images/012...</td>\n",
       "    </tr>\n",
       "    <tr>\n",
       "      <th>4409</th>\n",
       "      <td>Lie (Radio Ver.)</td>\n",
       "      <td>박화요비</td>\n",
       "      <td>2000.06.14</td>\n",
       "      <td>R&amp;B/Soul</td>\n",
       "      <td>말해줄래 나를 위해라면\\n이러진 말아\\n아직 그댈 놓아주기에는\\n너무 난 두려워\\n...</td>\n",
       "      <td>https://cdnimg.melon.co.kr/cm/album/images/000...</td>\n",
       "    </tr>\n",
       "    <tr>\n",
       "      <th>4410</th>\n",
       "      <td>Hip Song</td>\n",
       "      <td>비</td>\n",
       "      <td>2010.04.07</td>\n",
       "      <td>댄스</td>\n",
       "      <td>Yeah This is hip song right here\\nHa ha Brand ...</td>\n",
       "      <td>https://cdnimg.melon.co.kr/cm2/album/images/00...</td>\n",
       "    </tr>\n",
       "  </tbody>\n",
       "</table>\n",
       "<p>4411 rows × 6 columns</p>\n",
       "</div>"
      ],
      "text/plain": [
       "                                 제목            가수         발매일          장르  \\\n",
       "0                           날 사랑했다면           박학기  1993.10.01         발라드   \n",
       "1                         그대 떠난 이밤에         옥슨 80  1981.09.25        록/메탈   \n",
       "2                         나는 홀로 있어도           유심초  1980.11.01    성인가요/트로트   \n",
       "3     Love Is (Dance Mega Mix Ver.)            터보  2001.06.20          댄스   \n",
       "4         사랑밖엔 난 몰라 (Original Ver.)           심수봉  2009.08.13    성인가요/트로트   \n",
       "...                             ...           ...         ...         ...   \n",
       "4406                         작은 기다림      쿨 (COOL)  1995.10.01          댄스   \n",
       "4407                WE LIKE 2 PARTY  BIGBANG (빅뱅)  2015.06.01        랩/힙합   \n",
       "4408                        내 손을 잡아           아이유  2011.05.25  발라드, 국내드라마   \n",
       "4409               Lie (Radio Ver.)          박화요비  2000.06.14    R&B/Soul   \n",
       "4410                       Hip Song             비  2010.04.07          댄스   \n",
       "\n",
       "                                                     가사  \\\n",
       "0     떠나버린 널 깨닫기엔\\n하늘이 너무 맑아\\n우리에게 필요한 건 시간일뿐\\n\\n영화속...   \n",
       "1     바람부네 아픈 내맘에\\n아름다운 추억 못잊어 부네\\n그대 떠난 이밤\\n그대 떠난 이...   \n",
       "2     하얀 불빛 아래에\\n침묵만이 흐르고\\n낯설은 네 눈길에\\n눈물만이 흐르네\\n멀어져 ...   \n",
       "3     우린 6년전에 만났지\\n\\n널 사랑하게 됐어\\n\\n내 마음을 숨긴체\\n\\n널 따라 ...   \n",
       "4     그대 내 곁에선 순간\\n\\n그 눈빛이 너무 좋아\\n\\n어제는 울었지만\\n\\n오늘은 ...   \n",
       "...                                                 ...   \n",
       "4406  널 이렇게 보내 줄 수\\n밖에 없었어\\n나 후회할 지도 모른 채\\n끝없이 다가오는 ...   \n",
       "4407  오늘도 친구들이 왔어\\nMAN HOW YOU BEEN WHATS UP\\nAYE 여기...   \n",
       "4408  느낌이 오잖아\\n\\n떨리고 있잖아\\n\\n언제까지 눈치만 볼 거니\\n\\n네 맘을 말해...   \n",
       "4409  말해줄래 나를 위해라면\\n이러진 말아\\n아직 그댈 놓아주기에는\\n너무 난 두려워\\n...   \n",
       "4410  Yeah This is hip song right here\\nHa ha Brand ...   \n",
       "\n",
       "                                                    이미지  \n",
       "0     https://cdnimg.melon.co.kr/cm/album/images/005...  \n",
       "1     https://cdnimg.melon.co.kr/cm/album/images/000...  \n",
       "2     https://cdnimg.melon.co.kr/cm/album/images/003...  \n",
       "3     https://cdnimg.melon.co.kr/cm/album/images/003...  \n",
       "4     https://cdnimg.melon.co.kr/cm/album/images/006...  \n",
       "...                                                 ...  \n",
       "4406  https://cdnimg.melon.co.kr/cm/album/images/000...  \n",
       "4407  https://cdnimg.melon.co.kr/cm/album/images/023...  \n",
       "4408  https://cdnimg.melon.co.kr/cm/album/images/012...  \n",
       "4409  https://cdnimg.melon.co.kr/cm/album/images/000...  \n",
       "4410  https://cdnimg.melon.co.kr/cm2/album/images/00...  \n",
       "\n",
       "[4411 rows x 6 columns]"
      ]
     },
     "execution_count": 29,
     "metadata": {},
     "output_type": "execute_result"
    }
   ],
   "source": [
    "music"
   ]
  },
  {
   "cell_type": "markdown",
   "id": "e73c702a-d4c0-400a-9f5c-284f2c94867d",
   "metadata": {},
   "source": [
    "# 3.음악정보들을 music csv로 저장"
   ]
  },
  {
   "cell_type": "code",
   "execution_count": 30,
   "id": "bac2e6b9-4cef-4d61-8cd4-f0e78f1db8e9",
   "metadata": {
    "tags": []
   },
   "outputs": [],
   "source": [
    "music.to_csv('music.csv',index=False,encoding=\"utf-8-sig\")"
   ]
  },
  {
   "cell_type": "markdown",
   "id": "b461301e-ccb6-41df-82b8-5502fd588a5d",
   "metadata": {},
   "source": [
    "# 4. 이미지 html -> jpg로 변환 후 img 폴더에 저장"
   ]
  },
  {
   "cell_type": "code",
   "execution_count": 31,
   "id": "ede0e058-626e-451f-8520-4ee948faf781",
   "metadata": {},
   "outputs": [],
   "source": [
    "import urllib.request"
   ]
  },
  {
   "cell_type": "code",
   "execution_count": 48,
   "id": "d0588c06-01ec-4952-9100-5adbedd20f90",
   "metadata": {},
   "outputs": [
    {
     "data": {
      "text/plain": [
       "'https://cdnimg.melon.co.kr/cm/album/images/000/50/313/50313_500.jpg/melon/resize/282/quality/80/optimize'"
      ]
     },
     "execution_count": 48,
     "metadata": {},
     "output_type": "execute_result"
    }
   ],
   "source": [
    "music['이미지'][1]"
   ]
  },
  {
   "cell_type": "code",
   "execution_count": 1,
   "id": "fba7c88d-6e26-4ca5-bcb1-d2e0b1f5b488",
   "metadata": {},
   "outputs": [
    {
     "ename": "NameError",
     "evalue": "name 'music' is not defined",
     "output_type": "error",
     "traceback": [
      "\u001b[0;31m---------------------------------------------------------------------------\u001b[0m",
      "\u001b[0;31mNameError\u001b[0m                                 Traceback (most recent call last)",
      "\u001b[0;32m/tmp/ipykernel_7124/2217721582.py\u001b[0m in \u001b[0;36m<cell line: 3>\u001b[0;34m()\u001b[0m\n\u001b[1;32m      1\u001b[0m \u001b[0;32mimport\u001b[0m \u001b[0mrequests\u001b[0m\u001b[0;34m\u001b[0m\u001b[0;34m\u001b[0m\u001b[0m\n\u001b[1;32m      2\u001b[0m \u001b[0;34m\u001b[0m\u001b[0m\n\u001b[0;32m----> 3\u001b[0;31m \u001b[0;32mfor\u001b[0m \u001b[0mindex\u001b[0m\u001b[0;34m,\u001b[0m \u001b[0mi\u001b[0m \u001b[0;32min\u001b[0m \u001b[0menumerate\u001b[0m\u001b[0;34m(\u001b[0m\u001b[0mmusic\u001b[0m\u001b[0;34m[\u001b[0m\u001b[0;34m'이미지'\u001b[0m\u001b[0;34m]\u001b[0m\u001b[0;34m)\u001b[0m\u001b[0;34m:\u001b[0m\u001b[0;34m\u001b[0m\u001b[0;34m\u001b[0m\u001b[0m\n\u001b[0m\u001b[1;32m      4\u001b[0m     \u001b[0mresponse\u001b[0m \u001b[0;34m=\u001b[0m \u001b[0mrequests\u001b[0m\u001b[0;34m.\u001b[0m\u001b[0mget\u001b[0m\u001b[0;34m(\u001b[0m\u001b[0mi\u001b[0m\u001b[0;34m)\u001b[0m\u001b[0;34m\u001b[0m\u001b[0;34m\u001b[0m\u001b[0m\n\u001b[1;32m      5\u001b[0m \u001b[0;34m\u001b[0m\u001b[0m\n",
      "\u001b[0;31mNameError\u001b[0m: name 'music' is not defined"
     ]
    }
   ],
   "source": [
    "# 이미지 html -> jpg로 변환\n",
    "import requests\n",
    "\n",
    "for index, i in enumerate(music['이미지']):\n",
    "    response = requests.get(i)\n",
    "\n",
    "    with open(f\"img/{index}img.jpg\", \"wb\") as f:\n",
    "        f.write(response.content)"
   ]
  },
  {
   "cell_type": "code",
   "execution_count": null,
   "id": "2d03e12e-f267-49ab-a6a2-63355bdfd6fc",
   "metadata": {},
   "outputs": [],
   "source": []
  }
 ],
 "metadata": {
  "kernelspec": {
   "display_name": "base",
   "language": "python",
   "name": "python3"
  },
  "language_info": {
   "codemirror_mode": {
    "name": "ipython",
    "version": 3
   },
   "file_extension": ".py",
   "mimetype": "text/x-python",
   "name": "python",
   "nbconvert_exporter": "python",
   "pygments_lexer": "ipython3",
   "version": "3.9.12"
  },
  "vscode": {
   "interpreter": {
    "hash": "a077222d77dfe082b8f1dd562ad70e458ac2ab76993a0b248ab0476e32e9e8dd"
   }
  }
 },
 "nbformat": 4,
 "nbformat_minor": 5
}
